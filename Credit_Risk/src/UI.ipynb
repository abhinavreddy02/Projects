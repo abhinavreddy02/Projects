{
  "cells": [
    {
      "cell_type": "markdown",
      "id": "b8d5f2f3",
      "metadata": {
        "id": "b8d5f2f3"
      },
      "source": [
        "## User Prediction"
      ]
    },
    {
      "cell_type": "code",
      "execution_count": 15,
      "id": "02ec691c",
      "metadata": {
        "id": "02ec691c"
      },
      "outputs": [],
      "source": [
        "import pickle\n",
        "from IPython.display import display, HTML\n",
        "\n",
        "import warnings\n",
        "warnings.filterwarnings('ignore')"
      ]
    },
    {
      "cell_type": "code",
      "execution_count": 16,
      "id": "158fcaac",
      "metadata": {
        "id": "158fcaac"
      },
      "outputs": [],
      "source": [
        "loaded_model = pickle.load(open('GRADIENT_TrainedModel.pkl', 'rb'))\n"
      ]
    },
    {
      "cell_type": "code",
      "execution_count": 17,
      "id": "c343e027",
      "metadata": {
        "id": "c343e027",
        "colab": {
          "base_uri": "https://localhost:8080/"
        },
        "outputId": "bd33ceb7-2a31-4144-e5a8-67875a23722f"
      },
      "outputs": [
        {
          "name": "stdout",
          "output_type": "stream",
          "text": [
            "Enter loan_size: 19600\n"
          ]
        }
      ],
      "source": [
        "loan_size = float(input(\"Enter loan_size: \"))\n"
      ]
    },
    {
      "cell_type": "code",
      "execution_count": 18,
      "id": "3eee836f",
      "metadata": {
        "id": "3eee836f",
        "outputId": "111807e9-139a-433b-8489-3c911f786bc3",
        "colab": {
          "base_uri": "https://localhost:8080/"
        }
      },
      "outputs": [
        {
          "name": "stdout",
          "output_type": "stream",
          "text": [
            "Enter interest_rate: 11.56\n"
          ]
        }
      ],
      "source": [
        "interest_rate = float(input(\"Enter interest_rate: \"))\n"
      ]
    },
    {
      "cell_type": "code",
      "execution_count": 19,
      "id": "d2a1a912",
      "metadata": {
        "id": "d2a1a912",
        "outputId": "8af51fb6-38d5-4041-b9c1-c533c3c5d49f",
        "colab": {
          "base_uri": "https://localhost:8080/"
        }
      },
      "outputs": [
        {
          "name": "stdout",
          "output_type": "stream",
          "text": [
            "Enter borrower_income: 88500\n"
          ]
        }
      ],
      "source": [
        "borrower_income = float(input(\"Enter borrower_income: \"))\n"
      ]
    },
    {
      "cell_type": "code",
      "execution_count": 20,
      "id": "e110f335",
      "metadata": {
        "id": "e110f335",
        "outputId": "9f206097-894d-4ec4-c62a-bc3352b64cbf",
        "colab": {
          "base_uri": "https://localhost:8080/"
        }
      },
      "outputs": [
        {
          "name": "stdout",
          "output_type": "stream",
          "text": [
            "Enter debt_to_income: 0.66\n"
          ]
        }
      ],
      "source": [
        "debt_to_income = float(input(\"Enter debt_to_income: \"))\n"
      ]
    },
    {
      "cell_type": "code",
      "execution_count": 21,
      "id": "cda5359f",
      "metadata": {
        "id": "cda5359f",
        "outputId": "d379364f-1084-489f-e509-12bd0a7697ff",
        "colab": {
          "base_uri": "https://localhost:8080/"
        }
      },
      "outputs": [
        {
          "name": "stdout",
          "output_type": "stream",
          "text": [
            "Enter num_of_accounts: 13\n"
          ]
        }
      ],
      "source": [
        "num_of_accounts = float(input(\"Enter num_of_accounts: \"))\n"
      ]
    },
    {
      "cell_type": "code",
      "execution_count": 22,
      "id": "a0e0d0b3",
      "metadata": {
        "id": "a0e0d0b3",
        "outputId": "33562f7b-37e8-4021-fc5e-3b535693d730",
        "colab": {
          "base_uri": "https://localhost:8080/"
        }
      },
      "outputs": [
        {
          "name": "stdout",
          "output_type": "stream",
          "text": [
            "Enter derogatory_marks: 2\n"
          ]
        }
      ],
      "source": [
        "derogatory_marks = float(input(\"Enter derogatory_marks: \"))\n"
      ]
    },
    {
      "cell_type": "code",
      "execution_count": 23,
      "id": "10ef62be",
      "metadata": {
        "id": "10ef62be",
        "outputId": "1df84e6d-a8d5-492f-eb13-70b14441ca0e",
        "colab": {
          "base_uri": "https://localhost:8080/"
        }
      },
      "outputs": [
        {
          "name": "stdout",
          "output_type": "stream",
          "text": [
            "Enter total_debt: 58500\n"
          ]
        }
      ],
      "source": [
        "total_debt = float(input(\"Enter total_debt: \"))\n"
      ]
    },
    {
      "cell_type": "code",
      "execution_count": 24,
      "id": "28f503c7",
      "metadata": {
        "id": "28f503c7"
      },
      "outputs": [],
      "source": [
        "Final_data = [[loan_size, interest_rate, borrower_income, debt_to_income, num_of_accounts, derogatory_marks, total_debt]]\n"
      ]
    },
    {
      "cell_type": "code",
      "execution_count": 25,
      "id": "cab208d4",
      "metadata": {
        "id": "cab208d4"
      },
      "outputs": [],
      "source": [
        "preds = loaded_model.predict(Final_data)\n"
      ]
    },
    {
      "cell_type": "code",
      "execution_count": 26,
      "id": "0403a19b",
      "metadata": {
        "id": "0403a19b",
        "outputId": "74b6b3da-6c29-454a-93e0-b87f743cfaa6",
        "colab": {
          "base_uri": "https://localhost:8080/"
        }
      },
      "outputs": [
        {
          "output_type": "stream",
          "name": "stdout",
          "text": [
            "preds: [1]\n"
          ]
        }
      ],
      "source": [
        "print(\"preds:\", preds)\n"
      ]
    },
    {
      "cell_type": "code",
      "execution_count": 27,
      "id": "15cf1855",
      "metadata": {
        "id": "15cf1855"
      },
      "outputs": [],
      "source": [
        "\n",
        "if preds[0] == 0:\n",
        "    Result = \"Status- No\"\n",
        "\n",
        "else:\n",
        "    Result = \"Status- Yes\"\n"
      ]
    },
    {
      "cell_type": "code",
      "execution_count": 28,
      "id": "4379058c",
      "metadata": {
        "id": "4379058c",
        "outputId": "c1e6e56f-9eda-413b-f642-8a671912b6cf",
        "colab": {
          "base_uri": "https://localhost:8080/",
          "height": 34
        }
      },
      "outputs": [
        {
          "output_type": "display_data",
          "data": {
            "text/plain": [
              "<IPython.core.display.HTML object>"
            ],
            "text/html": [
              "Status- Yes"
            ]
          },
          "metadata": {}
        }
      ],
      "source": [
        "display(HTML(Result))\n"
      ]
    },
    {
      "cell_type": "code",
      "execution_count": 28,
      "id": "73290a88",
      "metadata": {
        "id": "73290a88"
      },
      "outputs": [],
      "source": []
    }
  ],
  "metadata": {
    "kernelspec": {
      "display_name": "Python 3",
      "language": "python",
      "name": "python3"
    },
    "language_info": {
      "codemirror_mode": {
        "name": "ipython",
        "version": 3
      },
      "file_extension": ".py",
      "mimetype": "text/x-python",
      "name": "python",
      "nbconvert_exporter": "python",
      "pygments_lexer": "ipython3",
      "version": "3.8.5"
    },
    "colab": {
      "provenance": []
    }
  },
  "nbformat": 4,
  "nbformat_minor": 5
}